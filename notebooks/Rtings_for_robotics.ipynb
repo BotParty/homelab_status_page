{
 "cells": [
  {
   "cell_type": "code",
   "execution_count": null,
   "id": "826c9350-9176-4a86-ba0c-a4ed76b30741",
   "metadata": {},
   "outputs": [],
   "source": [
    "# Print each even number on a new line\n",
    "for num in range(2, 10001, 2):\n",
    "    print(num)"
   ]
  },
  {
   "cell_type": "code",
   "execution_count": null,
   "id": "3d97532c-a236-40a9-9769-4be2db45bc54",
   "metadata": {},
   "outputs": [],
   "source": []
  }
 ],
 "metadata": {
  "kernelspec": {
   "display_name": "Python 3 (ipykernel)",
   "language": "python",
   "name": "python3"
  },
  "language_info": {
   "codemirror_mode": {
    "name": "ipython",
    "version": 3
   },
   "file_extension": ".py",
   "mimetype": "text/x-python",
   "name": "python",
   "nbconvert_exporter": "python",
   "pygments_lexer": "ipython3",
   "version": "3.12.3"
  }
 },
 "nbformat": 4,
 "nbformat_minor": 5
}
