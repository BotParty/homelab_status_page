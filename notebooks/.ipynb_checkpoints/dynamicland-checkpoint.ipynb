{
 "cells": [
  {
   "cell_type": "code",
   "execution_count": null,
   "id": "829be1cd",
   "metadata": {},
   "outputs": [],
   "source": [
    "list = [\n",
    "    \"https://bookshop.org/book/9781477325766\",\n",
    "    \"https://bookshop.org/book/9780521292429\",\n",
    "    \"https://archive.org/details/in.gov.ignca.12550\",\n",
    "    \"https://bookshop.org/book/9780674699069\",\n",
    "    \"https://www.routledge.com/Orality-and-Literacy-30th-Anniversary-Edition/Ong/p/book/9780415538381\",\n",
    "    \"https://bookshop.org/book/9780521299558\",\n",
    "    \"https://en.wikipedia.org/wiki/The_Educated_Mind\",\n",
    "    \"https://www.edwardtufte.com/book/envisioning-information/\",\n",
    "    \"https://en.wikipedia.org/wiki/Understanding_Comics\",\n",
    "    \"https://mitpress.mit.edu/9780262581462/cognition-in-the-wild/\",\n",
    "    \"https://bookshop.org/book/9780143117469\",\n",
    "    \"https://bookshop.org/book/9780679740476\",\n",
    "    \"https://en.wikipedia.org/wiki/A_Pattern_Language\",\n",
    "    \"https://en.wikipedia.org/wiki/The_Oregon_Experiment\",\n",
    "    \"https://en.wikipedia.org/wiki/How_Buildings_Learn\",\n",
    "    \"https://bookshop.org/book/9780226113470\",\n",
    "    \"https://bookshop.org/book/9780679764892\",\n",
    "    \"http://www.newmediareader.com/\",\n",
    "    \"https://bookshop.org/book/9780125232708\",\n",
    "    \"https://bookshop.org/book/9781783083442\",\n",
    "    \"https://worrydream.com/refs/Nelson_T_1974_-_Computer_Lib,_Dream_Machines.pdf\",\n",
    "    \"https://en.wikipedia.org/wiki/Literary_Machines\",\n",
    "    \"https://bookshop.org/book/9781541675124\",\n",
    "    \"https://worrydream.com/refs/Allen-Conn_2003_-_Powerful_Ideas_in_the_Classroom.pdf\",\n",
    "    \"https://www.rheingold.com/texts/tft/\",\n",
    "    \"https://en.wikipedia.org/wiki/Sketchpad\",\n",
    "    \"https://dougengelbart.org/content/view/201/\",\n",
    "    \"https://dl.acm.org/doi/book/10.1145/61975\",\n",
    "    \"https://worrydream.com/refs/Krasner_1983_-_Smalltalk-80_Bits_of_History,_Words_of_Advice.pdf\",\n",
    "    \"https://archive.org/details/humaninterfacewh0000bolt\",\n",
    "    \"https://worrydream.com/refs/Bolt_1979_-_Spatial_Data_Management.pdf\",\n",
    "    \"https://worrydream.com/refs/Kim_1988_-_Viewpoint,_Toward_a_Computer_for_Visual_Thinkers.pdf\",\n",
    "    \"https://en.wikipedia.org/wiki/Seeing_Like_a_State\",\n",
    "    \"https://mitpress.mit.edu/9780262546799/simulation-and-its-discontents/\",\n",
    "    \"https://bookshop.org/book/9780143036531\",\n",
    "    \"https://bookshop.org/book/9780679745402\",\n",
    "    \"https://bookshop.org/book/9781842300114\",\n",
    "    \"https://web.stanford.edu/dept/SUL/sites/mac/primary/docs/satori/\",\n",
    "    \"https://bookshop.org/book/9781732265110\",\n",
    "    \"https://bookshop.org/book/9780804738712\",\n",
    "    \"https://worrydream.com/refs/Piumarta_2010_-_Points_of_View.pdf\",\n",
    "    \"https://bookshop.org/book/9781849901154\"\n",
    "]"
   ]
  },
  {
   "cell_type": "code",
   "execution_count": null,
   "id": "44369f32",
   "metadata": {},
   "outputs": [],
   "source": []
  },
  {
   "cell_type": "code",
   "execution_count": null,
   "id": "c25d5018",
   "metadata": {},
   "outputs": [],
   "source": []
  },
  {
   "cell_type": "code",
   "execution_count": null,
   "id": "0e257aa7",
   "metadata": {},
   "outputs": [],
   "source": []
  },
  {
   "cell_type": "code",
   "execution_count": null,
   "id": "4024c40a",
   "metadata": {},
   "outputs": [],
   "source": []
  },
  {
   "cell_type": "code",
   "execution_count": null,
   "id": "d9e1dad5",
   "metadata": {},
   "outputs": [],
   "source": []
  },
  {
   "cell_type": "code",
   "execution_count": null,
   "id": "0188225b",
   "metadata": {},
   "outputs": [],
   "source": [
    "alan_reading_list = 'https://www.goodreads.com/list/show/137290._Alan_Kay_s_Reading_List'"
   ]
  },
  {
   "cell_type": "code",
   "execution_count": null,
   "id": "874a6926",
   "metadata": {},
   "outputs": [],
   "source": []
  },
  {
   "cell_type": "code",
   "execution_count": null,
   "id": "de63e310",
   "metadata": {},
   "outputs": [],
   "source": []
  }
 ],
 "metadata": {
  "kernelspec": {
   "display_name": "Python 3 (ipykernel)",
   "language": "python",
   "name": "python3"
  },
  "language_info": {
   "codemirror_mode": {
    "name": "ipython",
    "version": 3
   },
   "file_extension": ".py",
   "mimetype": "text/x-python",
   "name": "python",
   "nbconvert_exporter": "python",
   "pygments_lexer": "ipython3",
   "version": "3.13.0"
  }
 },
 "nbformat": 4,
 "nbformat_minor": 5
}
