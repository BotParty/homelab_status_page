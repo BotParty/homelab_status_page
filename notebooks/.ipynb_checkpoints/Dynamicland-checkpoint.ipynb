{
 "cells": [
  {
   "cell_type": "code",
   "execution_count": null,
   "id": "bf0a1799-0cf5-49d1-bb5e-73560d47daaa",
   "metadata": {},
   "outputs": [],
   "source": [
    "# https://dynamicland.org/2024/Roots/ annotate\n",
    "# periodic - 150 datum"
   ]
  }
 ],
 "metadata": {
  "kernelspec": {
   "display_name": "Python 3 (ipykernel)",
   "language": "python",
   "name": "python3"
  },
  "language_info": {
   "codemirror_mode": {
    "name": "ipython",
    "version": 3
   },
   "file_extension": ".py",
   "mimetype": "text/x-python",
   "name": "python",
   "nbconvert_exporter": "python",
   "pygments_lexer": "ipython3",
   "version": "3.13.0"
  }
 },
 "nbformat": 4,
 "nbformat_minor": 5
}
