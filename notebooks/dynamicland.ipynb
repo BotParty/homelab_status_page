{
 "cells": [
  {
   "cell_type": "code",
   "execution_count": 2,
   "id": "829be1cd",
   "metadata": {},
   "outputs": [],
   "source": [
    "dynamicland_book_shelf = [\n",
    "    \"https://bookshop.org/book/9781477325766\",\n",
    "    \"https://bookshop.org/book/9780521292429\",\n",
    "    \"https://archive.org/details/in.gov.ignca.12550\",\n",
    "    \"https://bookshop.org/book/9780674699069\",\n",
    "    \"https://www.routledge.com/Orality-and-Literacy-30th-Anniversary-Edition/Ong/p/book/9780415538381\",\n",
    "    \"https://bookshop.org/book/9780521299558\",\n",
    "    \"https://en.wikipedia.org/wiki/The_Educated_Mind\",\n",
    "    \"https://www.edwardtufte.com/book/envisioning-information/\",\n",
    "    \"https://en.wikipedia.org/wiki/Understanding_Comics\",\n",
    "    \"https://mitpress.mit.edu/9780262581462/cognition-in-the-wild/\",\n",
    "    \"https://bookshop.org/book/9780143117469\",\n",
    "    \"https://bookshop.org/book/9780679740476\",\n",
    "    \"https://en.wikipedia.org/wiki/A_Pattern_Language\",\n",
    "    \"https://en.wikipedia.org/wiki/The_Oregon_Experiment\",\n",
    "    \"https://en.wikipedia.org/wiki/How_Buildings_Learn\",\n",
    "    \"https://bookshop.org/book/9780226113470\",\n",
    "    \"https://bookshop.org/book/9780679764892\",\n",
    "    \"http://www.newmediareader.com/\",\n",
    "    \"https://bookshop.org/book/9780125232708\",\n",
    "    \"https://bookshop.org/book/9781783083442\",\n",
    "    \"https://worrydream.com/refs/Nelson_T_1974_-_Computer_Lib,_Dream_Machines.pdf\",\n",
    "    \"https://en.wikipedia.org/wiki/Literary_Machines\",\n",
    "    \"https://bookshop.org/book/9781541675124\",\n",
    "    \"https://worrydream.com/refs/Allen-Conn_2003_-_Powerful_Ideas_in_the_Classroom.pdf\",\n",
    "    \"https://www.rheingold.com/texts/tft/\",\n",
    "    \"https://en.wikipedia.org/wiki/Sketchpad\",\n",
    "    \"https://dougengelbart.org/content/view/201/\",\n",
    "    \"https://dl.acm.org/doi/book/10.1145/61975\",\n",
    "    \"https://worrydream.com/refs/Krasner_1983_-_Smalltalk-80_Bits_of_History,_Words_of_Advice.pdf\",\n",
    "    \"https://archive.org/details/humaninterfacewh0000bolt\",\n",
    "    \"https://worrydream.com/refs/Bolt_1979_-_Spatial_Data_Management.pdf\",\n",
    "    \"https://worrydream.com/refs/Kim_1988_-_Viewpoint,_Toward_a_Computer_for_Visual_Thinkers.pdf\",\n",
    "    \"https://en.wikipedia.org/wiki/Seeing_Like_a_State\",\n",
    "    \"https://mitpress.mit.edu/9780262546799/simulation-and-its-discontents/\",\n",
    "    \"https://bookshop.org/book/9780143036531\",\n",
    "    \"https://bookshop.org/book/9780679745402\",\n",
    "    \"https://bookshop.org/book/9781842300114\",\n",
    "    \"https://web.stanford.edu/dept/SUL/sites/mac/primary/docs/satori/\",\n",
    "    \"https://bookshop.org/book/9781732265110\",\n",
    "    \"https://bookshop.org/book/9780804738712\",\n",
    "    \"https://worrydream.com/refs/Piumarta_2010_-_Points_of_View.pdf\",\n",
    "    \"https://bookshop.org/book/9781849901154\"\n",
    "]"
   ]
  },
  {
   "cell_type": "code",
   "execution_count": 4,
   "id": "44369f32",
   "metadata": {},
   "outputs": [
    {
     "data": {
      "text/plain": [
       "42"
      ]
     },
     "execution_count": 4,
     "metadata": {},
     "output_type": "execute_result"
    }
   ],
   "source": [
    "len(dynamicland_book_shelf)"
   ]
  },
  {
   "cell_type": "code",
   "execution_count": 6,
   "id": "c25d5018",
   "metadata": {},
   "outputs": [
    {
     "name": "stdout",
     "output_type": "stream",
     "text": [
      "\u001b[2mAudited \u001b[1m1 package\u001b[0m \u001b[2min 5ms\u001b[0m\u001b[0m\n"
     ]
    }
   ],
   "source": [
    "!uv pip install pytubefix"
   ]
  },
  {
   "cell_type": "code",
   "execution_count": 10,
   "id": "0e257aa7",
   "metadata": {},
   "outputs": [
    {
     "name": "stdout",
     "output_type": "stream",
     "text": [
      "Downloading videos by: Dynamicland\n"
     ]
    }
   ],
   "source": [
    "from pytubefix import Playlist\n",
    "from pytubefix.cli import on_progress\n",
    "from pytubefix import Channel\n",
    "\n",
    "url = \"https://www.youtube.com/@dynamicland1784\"\n",
    "c = Channel(url)\n",
    "print(f'Downloading videos by: {c.channel_name}')\n",
    "\n"
   ]
  },
  {
   "cell_type": "code",
   "execution_count": null,
   "id": "4024c40a",
   "metadata": {},
   "outputs": [],
   "source": [
    "for video in c.videos:\n",
    "    ys = video.streams.get_highest_resolution()\n",
    "    ys.download(output_path=\"/home/adnan/derp/dynamicland_youtube/\")"
   ]
  },
  {
   "cell_type": "code",
   "execution_count": 12,
   "id": "d9e1dad5",
   "metadata": {},
   "outputs": [
    {
     "data": {
      "text/plain": [
       "[<pytubefix.__main__.YouTube object: videoId=Osn3JXaT3W8>, <pytubefix.__main__.YouTube object: videoId=-80VsIdAHZw>, <pytubefix.__main__.YouTube object: videoId=k3QAVEweMkY>, <pytubefix.__main__.YouTube object: videoId=qJFcLlUc6uE>, <pytubefix.__main__.YouTube object: videoId=cErKuEHWCpM>, <pytubefix.__main__.YouTube object: videoId=eJm44LJDU44>, <pytubefix.__main__.YouTube object: videoId=VTHvNasQyu8>, <pytubefix.__main__.YouTube object: videoId=GmY_BrwWnCA>, <pytubefix.__main__.YouTube object: videoId=3iwCUt3JGlc>, <pytubefix.__main__.YouTube object: videoId=x8-7E0IT5K0>, <pytubefix.__main__.YouTube object: videoId=K89W4WyiRFI>, <pytubefix.__main__.YouTube object: videoId=nT4E5HkpLjo>, <pytubefix.__main__.YouTube object: videoId=5Q9r-AEzRMA>, <pytubefix.__main__.YouTube object: videoId=uI7J3II59lc>]"
      ]
     },
     "execution_count": 12,
     "metadata": {},
     "output_type": "execute_result"
    }
   ],
   "source": []
  },
  {
   "cell_type": "code",
   "execution_count": null,
   "id": "0188225b",
   "metadata": {},
   "outputs": [],
   "source": [
    "alan_reading_list = 'https://www.goodreads.com/list/show/137290._Alan_Kay_s_Reading_List'"
   ]
  },
  {
   "cell_type": "code",
   "execution_count": null,
   "id": "874a6926",
   "metadata": {},
   "outputs": [],
   "source": []
  },
  {
   "cell_type": "code",
   "execution_count": 2,
   "id": "de63e310",
   "metadata": {},
   "outputs": [
    {
     "data": {
      "text/html": [
       "<div>\n",
       "<style scoped>\n",
       "    .dataframe tbody tr th:only-of-type {\n",
       "        vertical-align: middle;\n",
       "    }\n",
       "\n",
       "    .dataframe tbody tr th {\n",
       "        vertical-align: top;\n",
       "    }\n",
       "\n",
       "    .dataframe thead th {\n",
       "        text-align: right;\n",
       "    }\n",
       "</style>\n",
       "<table border=\"1\" class=\"dataframe\">\n",
       "  <thead>\n",
       "    <tr style=\"text-align: right;\">\n",
       "      <th></th>\n",
       "      <th>link</th>\n",
       "      <th>isbn</th>\n",
       "    </tr>\n",
       "  </thead>\n",
       "  <tbody>\n",
       "    <tr>\n",
       "      <th>0</th>\n",
       "      <td>https://www.example.com/book1</td>\n",
       "      <td>None</td>\n",
       "    </tr>\n",
       "    <tr>\n",
       "      <th>1</th>\n",
       "      <td>https://www.example.com/book2</td>\n",
       "      <td>None</td>\n",
       "    </tr>\n",
       "  </tbody>\n",
       "</table>\n",
       "</div>"
      ],
      "text/plain": [
       "                            link  isbn\n",
       "0  https://www.example.com/book1  None\n",
       "1  https://www.example.com/book2  None"
      ]
     },
     "execution_count": 2,
     "metadata": {},
     "output_type": "execute_result"
    }
   ],
   "source": [
    "import pandas as pd\n",
    "import requests\n",
    "from bs4 import BeautifulSoup\n",
    "\n",
    "API_KEY = \"YOUR_GOOGLE_BOOKS_API_KEY\"\n",
    "BASE_URL = \"https://www.googleapis.com/books/v1/volumes\"\n",
    "\n",
    "def get_isbn_from_link(link):\n",
    "    # Write your custom logic here (scraping or regex)\n",
    "    # Return the ISBN or None\n",
    "    response = requests.get(link)\n",
    "    if response.status_code == 200:\n",
    "        soup = BeautifulSoup(response.text, \"html.parser\")\n",
    "        # Example: maybe the ISBN is in a span with id=\"book-isbn\"\n",
    "        isbn_tag = soup.find(\"span\", id=\"book-isbn\")\n",
    "        if isbn_tag:\n",
    "            return isbn_tag.get_text(strip=True)\n",
    "    return None\n",
    "\n",
    "def get_book_info_from_google_books(isbn):\n",
    "    # Query Google Books\n",
    "    params = {\"q\": f\"isbn:{isbn}\", \"key\": API_KEY, \"maxResults\": 1}\n",
    "    response = requests.get(BASE_URL, params=params)\n",
    "    if response.status_code == 200:\n",
    "        data = response.json()\n",
    "        if \"items\" in data and len(data[\"items\"]) > 0:\n",
    "            volume_info = data[\"items\"][0][\"volumeInfo\"]\n",
    "            return {\n",
    "                \"title\": volume_info.get(\"title\"),\n",
    "                \"authors\": volume_info.get(\"authors\"),\n",
    "                \"publisher\": volume_info.get(\"publisher\"),\n",
    "                \"publishedDate\": volume_info.get(\"publishedDate\"),\n",
    "                \"description\": volume_info.get(\"description\")\n",
    "            }\n",
    "    return {}\n",
    "\n",
    "book_links = [\n",
    "    \"https://www.example.com/book1\",\n",
    "    \"https://www.example.com/book2\",\n",
    "    # ...\n",
    "]\n",
    "\n",
    "results = []\n",
    "for link in book_links:\n",
    "    isbn = get_isbn_from_link(link)\n",
    "    if isbn:\n",
    "        info = get_book_info_from_google_books(isbn)\n",
    "        results.append({\n",
    "            \"link\": link,\n",
    "            \"isbn\": isbn,\n",
    "            **info  # merge dictionary fields\n",
    "        })\n",
    "    else:\n",
    "        results.append({\"link\": link, \"isbn\": None})\n",
    "\n",
    "df = pd.DataFrame(results)\n",
    "df.head()\n"
   ]
  }
 ],
 "metadata": {
  "kernelspec": {
   "display_name": "Python 3 (ipykernel)",
   "language": "python",
   "name": "python3"
  },
  "language_info": {
   "codemirror_mode": {
    "name": "ipython",
    "version": 3
   },
   "file_extension": ".py",
   "mimetype": "text/x-python",
   "name": "python",
   "nbconvert_exporter": "python",
   "pygments_lexer": "ipython3",
   "version": "3.12.3"
  }
 },
 "nbformat": 4,
 "nbformat_minor": 5
}
